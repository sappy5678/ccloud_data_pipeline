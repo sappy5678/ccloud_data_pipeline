{
 "cells": [
  {
   "cell_type": "code",
   "execution_count": 9,
   "metadata": {
    "ExecuteTime": {
     "end_time": "2020-06-19T14:52:05.003366Z",
     "start_time": "2020-06-19T14:52:04.025093Z"
    }
   },
   "outputs": [],
   "source": [
    "import spacy\n",
    "import en_core_web_sm\n",
    "nlp = en_core_web_sm.load()\n",
    "s = \"Apple is looking at buying U.K. startup for $1 billion\""
   ]
  },
  {
   "cell_type": "code",
   "execution_count": 10,
   "metadata": {
    "ExecuteTime": {
     "end_time": "2020-06-19T14:52:05.071898Z",
     "start_time": "2020-06-19T14:52:05.028194Z"
    }
   },
   "outputs": [
    {
     "name": "stdout",
     "output_type": "stream",
     "text": [
      "Apple\n",
      "is\n",
      "looking\n",
      "at\n",
      "buying\n",
      "U.K.\n",
      "startup\n",
      "for\n",
      "$\n",
      "1\n",
      "billion\n"
     ]
    }
   ],
   "source": [
    "# nlp = spacy.load(\"en_core_web_sm\")\n",
    "doc = nlp(s)\n",
    "for token in doc:\n",
    "    print(token.text)"
   ]
  },
  {
   "cell_type": "code",
   "execution_count": 11,
   "metadata": {
    "ExecuteTime": {
     "end_time": "2020-06-19T14:52:08.155094Z",
     "start_time": "2020-06-19T14:52:08.124316Z"
    }
   },
   "outputs": [
    {
     "name": "stdout",
     "output_type": "stream",
     "text": [
      "Apple Apple PROPN NNP nsubj Xxxxx True False\n",
      "is be AUX VBZ aux xx True True\n",
      "looking look VERB VBG ROOT xxxx True False\n",
      "at at ADP IN prep xx True True\n",
      "buying buy VERB VBG pcomp xxxx True False\n",
      "U.K. U.K. PROPN NNP compound X.X. False False\n",
      "startup startup NOUN NN dobj xxxx True False\n",
      "for for ADP IN prep xxx True True\n",
      "$ $ SYM $ quantmod $ False False\n",
      "1 1 NUM CD compound d False False\n",
      "billion billion NUM CD pobj xxxx True False\n"
     ]
    }
   ],
   "source": [
    "doc = nlp(s)\n",
    "\n",
    "for token in doc:\n",
    "    print(token.text, token.lemma_, token.pos_, token.tag_, token.dep_,\n",
    "            token.shape_, token.is_alpha, token.is_stop)"
   ]
  },
  {
   "cell_type": "code",
   "execution_count": 12,
   "metadata": {
    "ExecuteTime": {
     "end_time": "2020-06-19T14:52:13.672395Z",
     "start_time": "2020-06-19T14:52:13.646408Z"
    }
   },
   "outputs": [
    {
     "name": "stdout",
     "output_type": "stream",
     "text": [
      "Apple Apple nsubj looking\n",
      "U.K. startup startup dobj buying\n"
     ]
    }
   ],
   "source": [
    "doc = nlp(s)\n",
    "for chunk in doc.noun_chunks:\n",
    "    print(chunk.text, chunk.root.text, chunk.root.dep_,\n",
    "            chunk.root.head.text)"
   ]
  },
  {
   "cell_type": "code",
   "execution_count": 13,
   "metadata": {
    "ExecuteTime": {
     "end_time": "2020-06-19T14:54:53.585888Z",
     "start_time": "2020-06-19T14:54:53.550082Z"
    }
   },
   "outputs": [
    {
     "name": "stdout",
     "output_type": "stream",
     "text": [
      "Apple 0 5 ORG\n",
      "U.K. 27 31 GPE\n",
      "$1 billion 44 54 MONEY\n"
     ]
    }
   ],
   "source": [
    "doc = nlp(s)\n",
    "\n",
    "for ent in doc.ents:\n",
    "    print(ent.text, ent.start_char, ent.end_char, ent.label_, )"
   ]
  },
  {
   "cell_type": "code",
   "execution_count": 38,
   "metadata": {
    "ExecuteTime": {
     "end_time": "2020-06-19T19:37:52.398040Z",
     "start_time": "2020-06-19T19:37:52.382506Z"
    }
   },
   "outputs": [],
   "source": [
    "output_json = {\n",
    "    'id': \"This is id\",\n",
    "    'title': \"This is input\",\n",
    "    'content': [\n",
    "        {\n",
    "            \"sentence\":{\n",
    "                \"origin\": \"Apple is looking at buying U.K. startup for $1 billion\",\n",
    "                \"Tok\": {},\n",
    "                \"Pos\": {},\n",
    "                \"Tag\": {},\n",
    "                \"Ner\": {},\n",
    "                \"Dep\": {}\n",
    "            }\n",
    "        }\n",
    "    ], \n",
    "    \"metadata\":{}\n",
    "}\n",
    "input_json = {\n",
    "    'id': \"This is id\",\n",
    "    'title': \"This is input\",\n",
    "    'content': [\n",
    "        {\n",
    "            \"sentence\":{\n",
    "                \"origin\": \"Apple is looking at buying U.K. startup for $1 billion\",\n",
    "            }\n",
    "        }\n",
    "    ], \n",
    "    \"metadata\":{}\n",
    "}\n",
    "\n",
    "pipline_json = {\n",
    "       \"id\": \"This is id\",\n",
    "        \"pipline\":{\n",
    "            'Tok': 1 ,\n",
    "            'Pos': 1,\n",
    "            'Tag': 1,\n",
    "            'Ner': 1,\n",
    "            'Dep': 1\n",
    "        }\n",
    "}"
   ]
  },
  {
   "cell_type": "code",
   "execution_count": 29,
   "metadata": {
    "ExecuteTime": {
     "end_time": "2020-06-19T17:38:48.696190Z",
     "start_time": "2020-06-19T17:38:48.685020Z"
    }
   },
   "outputs": [
    {
     "name": "stdout",
     "output_type": "stream",
     "text": [
      "{\n",
      "  \"id\": \"This is id\",\n",
      "  \"pipline\": {\n",
      "    \"Tokenizer\": 1,\n",
      "    \"Pos\": 1,\n",
      "    \"Tag\": 1,\n",
      "    \"Ner\": 1,\n",
      "    \"Dep\": 1\n",
      "  }\n",
      "}\n"
     ]
    }
   ],
   "source": [
    "print(json.dumps(pipline_json, indent=2))"
   ]
  },
  {
   "cell_type": "code",
   "execution_count": 40,
   "metadata": {
    "ExecuteTime": {
     "end_time": "2020-06-19T20:23:59.710444Z",
     "start_time": "2020-06-19T20:23:59.688668Z"
    }
   },
   "outputs": [
    {
     "name": "stdout",
     "output_type": "stream",
     "text": [
      "{\n",
      "  \"id\": \"This is id\",\n",
      "  \"pipline\": {\n",
      "    \"Tok\": 1,\n",
      "    \"Pos\": 1,\n",
      "    \"Tag\": 1,\n",
      "    \"Ner\": 1,\n",
      "    \"Dep\": 1\n",
      "  }\n",
      "}\n"
     ]
    }
   ],
   "source": [
    "import json\n",
    "\n",
    "with open('./data/input_pipline/pipline_1.json', 'w') as f:\n",
    "    json.dump(pipline_json, f)\n",
    "\n",
    "with open('./data/input_pipline/pipline_1.json', 'r') as f:\n",
    "    tmp = json.load(f)\n",
    "print(json.dumps(tmp, indent=2))"
   ]
  },
  {
   "cell_type": "code",
   "execution_count": 35,
   "metadata": {
    "ExecuteTime": {
     "end_time": "2020-06-19T17:45:18.444736Z",
     "start_time": "2020-06-19T17:45:18.433782Z"
    }
   },
   "outputs": [
    {
     "name": "stdout",
     "output_type": "stream",
     "text": [
      "{\n",
      "  \"id\": \"This is id\",\n",
      "  \"title\": \"This is input\",\n",
      "  \"Content\": [\n",
      "    {\n",
      "      \"sentence\": {\n",
      "        \"origin\": \"Apple is looking at buying U.K. startup for $1 billion\"\n",
      "      }\n",
      "    }\n",
      "  ],\n",
      "  \"metadata\": {}\n",
      "}\n"
     ]
    }
   ],
   "source": [
    "with open('./data/input_paragraph/paragraph_1.json', 'w') as f:\n",
    "    json.dump(input_json, f)\n",
    "\n",
    "with open('./data/input_paragraph/paragraph_1.json', 'r') as f:\n",
    "    tmp = json.load(f)\n",
    "print(json.dumps(tmp, indent=2))"
   ]
  },
  {
   "cell_type": "code",
   "execution_count": 41,
   "metadata": {
    "ExecuteTime": {
     "end_time": "2020-06-19T20:40:20.302574Z",
     "start_time": "2020-06-19T20:40:20.289628Z"
    }
   },
   "outputs": [
    {
     "name": "stdout",
     "output_type": "stream",
     "text": [
      "{\n",
      "  \"id\": \"This is id\",\n",
      "  \"title\": \"This is input\",\n",
      "  \"content\": [\n",
      "    {\n",
      "      \"sentence\": {\n",
      "        \"origin\": \"Apple is looking at buying U.K. startup for $1 billion\",\n",
      "        \"Tok\": {},\n",
      "        \"Pos\": {},\n",
      "        \"Tag\": {},\n",
      "        \"Ner\": {},\n",
      "        \"Dep\": {}\n",
      "      }\n",
      "    }\n",
      "  ],\n",
      "  \"metadata\": {}\n",
      "}\n"
     ]
    }
   ],
   "source": [
    "with open('./data/sample_output.json', 'w') as f:\n",
    "    json.dump(output_json, f)\n",
    "\n",
    "with open('./data/sample_output.json', 'r') as f:\n",
    "    tmp = json.load(f)\n",
    "print(json.dumps(tmp, indent=2))"
   ]
  },
  {
   "cell_type": "code",
   "execution_count": 43,
   "metadata": {
    "ExecuteTime": {
     "end_time": "2020-06-19T20:40:43.916409Z",
     "start_time": "2020-06-19T20:40:43.908083Z"
    }
   },
   "outputs": [
    {
     "data": {
      "text/plain": [
       "{}"
      ]
     },
     "execution_count": 43,
     "metadata": {},
     "output_type": "execute_result"
    }
   ],
   "source": [
    "tmp['content'][0]['sentence']['Tok']"
   ]
  },
  {
   "cell_type": "code",
   "execution_count": 15,
   "metadata": {},
   "outputs": [],
   "source": [
    "import requests\n",
    "import json"
   ]
  },
  {
   "cell_type": "code",
   "execution_count": 78,
   "metadata": {},
   "outputs": [
    {
     "name": "stdout",
     "output_type": "stream",
     "text": [
      "{\"id\":\"This is id\",\"title\":\"This is input\",\"content\":[{\"sentence\":{\"origin\":\"Apple is looking at buying U.K. startup for $1 billion\",\"Tok\":[\"Apple\",\"is\",\"looking\",\"at\",\"buying\",\"U.K.\",\"startup\",\"for\",\"$\",\"1\",\"billion\"],\"Pos\":{\"Apple\":\"PROPN\",\"is\":\"AUX\",\"looking\":\"VERB\",\"at\":\"ADP\",\"buying\":\"VERB\",\"U.K.\":\"PROPN\",\"startup\":\"NOUN\",\"for\":\"ADP\",\"$\":\"SYM\",\"1\":\"NUM\",\"billion\":\"NUM\"},\"Tag\":{\"Apple\":\"NNP\",\"is\":\"VBZ\",\"looking\":\"VBG\",\"at\":\"IN\",\"buying\":\"VBG\",\"U.K.\":\"NNP\",\"startup\":\"NN\",\"for\":\"IN\",\"$\":\"$\",\"1\":\"CD\",\"billion\":\"CD\"},\"Ner\":{\"Apple\":\"ORG\",\"U.K.\":\"GPE\",\"$1 billion\":\"MONEY\"},\"Dep\":{\"Apple\":\"nsubj\",\"is\":\"aux\",\"looking\":\"ROOT\",\"at\":\"prep\",\"buying\":\"pcomp\",\"U.K.\":\"compound\",\"startup\":\"dobj\",\"for\":\"prep\",\"$\":\"quantmod\",\"1\":\"compound\",\"billion\":\"pobj\"}}}],\"metadata\":{}}\n"
     ]
    }
   ],
   "source": [
    "url = 'http://140.114.79.144:8000/items'\n",
    "input_json = {\n",
    "    'id': 0,\n",
    "    'title': \"This is input\",\n",
    "    'content': [\n",
    "        {\n",
    "            \"sentence\":{\n",
    "                \"origin\": \"Apple is looking at buying U.K. startup for $1 billion\",\n",
    "            }\n",
    "        }\n",
    "    ],\n",
    "    \"pipline\":{\n",
    "        'Tok': 1 ,\n",
    "        'Pos': 1,\n",
    "        'Tag': 1,\n",
    "        'Ner': 1,\n",
    "        'Dep': 1\n",
    "        },\n",
    " \n",
    "    \"metadata\":{}\n",
    "}\n",
    "\n",
    "res = requests.post(url, data = json.dumps(input_json))\n",
    "print(res.text)"
   ]
  },
  {
   "cell_type": "code",
   "execution_count": null,
   "metadata": {},
   "outputs": [],
   "source": []
  }
 ],
 "metadata": {
  "kernelspec": {
   "display_name": "Python 3",
   "language": "python",
   "name": "python3"
  },
  "language_info": {
   "codemirror_mode": {
    "name": "ipython",
    "version": 3
   },
   "file_extension": ".py",
   "mimetype": "text/x-python",
   "name": "python",
   "nbconvert_exporter": "python",
   "pygments_lexer": "ipython3",
   "version": "3.7.4"
  },
  "nbTranslate": {
   "displayLangs": [
    "*"
   ],
   "hotkey": "alt-t",
   "langInMainMenu": true,
   "sourceLang": "en",
   "targetLang": "fr",
   "useGoogleTranslate": true
  },
  "toc": {
   "base_numbering": 1,
   "nav_menu": {},
   "number_sections": true,
   "sideBar": true,
   "skip_h1_title": false,
   "title_cell": "Table of Contents",
   "title_sidebar": "Contents",
   "toc_cell": false,
   "toc_position": {},
   "toc_section_display": true,
   "toc_window_display": false
  },
  "varInspector": {
   "cols": {
    "lenName": 16,
    "lenType": 16,
    "lenVar": 40
   },
   "kernels_config": {
    "python": {
     "delete_cmd_postfix": "",
     "delete_cmd_prefix": "del ",
     "library": "var_list.py",
     "varRefreshCmd": "print(var_dic_list())"
    },
    "r": {
     "delete_cmd_postfix": ") ",
     "delete_cmd_prefix": "rm(",
     "library": "var_list.r",
     "varRefreshCmd": "cat(var_dic_list()) "
    }
   },
   "types_to_exclude": [
    "module",
    "function",
    "builtin_function_or_method",
    "instance",
    "_Feature"
   ],
   "window_display": false
  }
 },
 "nbformat": 4,
 "nbformat_minor": 2
}
